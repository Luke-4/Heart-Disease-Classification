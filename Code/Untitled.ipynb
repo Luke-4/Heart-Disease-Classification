{
 "cells": [
  {
   "cell_type": "markdown",
   "id": "9801cf77",
   "metadata": {},
   "source": [
    "# import libaries"
   ]
  },
  {
   "cell_type": "code",
   "execution_count": 1,
   "id": "6964adcb",
   "metadata": {},
   "outputs": [],
   "source": [
    "import pandas as pd\n",
    "from sklearn.model_selection import train_test_split\n",
    "from sklearn.tree import DecisionTreeClassifier\n",
    "from sklearn.metrics import confusion_matrix,classification_report\n",
    "from imblearn.metrics import classification_report_imbalanced"
   ]
  },
  {
   "cell_type": "code",
   "execution_count": 2,
   "id": "c140c1a7",
   "metadata": {},
   "outputs": [],
   "source": [
    "from sklearn.tree import DecisionTreeClassifier\n",
    "from imblearn.over_sampling import RandomOverSampler\n",
    "from imblearn.under_sampling import RandomUnderSampler"
   ]
  },
  {
   "cell_type": "markdown",
   "id": "924717ce",
   "metadata": {},
   "source": [
    "# import the dataset and balance labels"
   ]
  },
  {
   "cell_type": "code",
   "execution_count": 3,
   "id": "6b34b4d7",
   "metadata": {},
   "outputs": [],
   "source": [
    "df=pd.read_csv('../heart_disease/heart_disease.csv')\n",
    "#df.isnull().sum() #check for null values \n",
    "#df.columns"
   ]
  },
  {
   "cell_type": "code",
   "execution_count": 9,
   "id": "1c16049f",
   "metadata": {},
   "outputs": [],
   "source": [
    "X = df.drop (labels = ['HeartDiseaseorAttack'], axis =1)\n",
    "y = df['HeartDiseaseorAttack']\n",
    "#X_train, X_test, y_train , y_test = train_test_split(X,y,test_size=0.3, random_state=0) "
   ]
  },
  {
   "cell_type": "code",
   "execution_count": 10,
   "id": "6b6124b1",
   "metadata": {},
   "outputs": [
    {
     "name": "stdout",
     "output_type": "stream",
     "text": [
      "Original dataset shape Counter({0.0: 229787, 1.0: 23893})\n",
      "Y train Counter({0.0: 160947, 1.0: 16629})\n",
      "Y test Counter({0.0: 68840, 1.0: 7264})\n",
      "Y balanced Counter({0.0: 64378, 1.0: 32189})\n"
     ]
    }
   ],
   "source": [
    "from collections import Counter\n",
    "\n",
    "print(f'Original dataset shape {Counter(y)}')\n",
    "\n",
    "X_train, X_test, y_train , y_test = train_test_split(X,y,test_size=0.3, random_state=0) \n",
    "\n",
    "print(f'Y train {Counter(y_train)}')\n",
    "print(f'Y test {Counter(y_test)}')\n",
    "\n",
    "over = RandomOverSampler(sampling_strategy=0.2)\n",
    "under = RandomUnderSampler(sampling_strategy=0.5)\n",
    "\n",
    "X_balanced, y_balanced = over.fit_resample(X_train, y_train)\n",
    "X_balanced, y_balanced = under.fit_resample(X_balanced, y_balanced)\n",
    "\n",
    "print(f'Y balanced {Counter(y_balanced)}')"
   ]
  },
  {
   "cell_type": "markdown",
   "id": "d87cd822",
   "metadata": {},
   "source": [
    "# Train the model and predict (original data)"
   ]
  },
  {
   "cell_type": "code",
   "execution_count": 11,
   "id": "4aa0d5ee",
   "metadata": {},
   "outputs": [
    {
     "name": "stdout",
     "output_type": "stream",
     "text": [
      "                   pre       rec       spe        f1       geo       iba       sup\n",
      "\n",
      "        0.0       0.92      0.91      0.28      0.92      0.50      0.27     68840\n",
      "        1.0       0.24      0.28      0.91      0.26      0.50      0.24      7264\n",
      "\n",
      "avg / total       0.86      0.85      0.34      0.85      0.50      0.27     76104\n",
      "\n"
     ]
    }
   ],
   "source": [
    "# define model\n",
    "model = DecisionTreeClassifier()\n",
    "\n",
    "model.fit(X_train, y_train)\n",
    "y_pred = model.predict(X_test)\n",
    "\n",
    "# Classify and report the results\n",
    "print(classification_report_imbalanced(y_test, y_pred))"
   ]
  },
  {
   "cell_type": "markdown",
   "id": "bec041cb",
   "metadata": {},
   "source": [
    "# trian the model and predict (under and over sampled data)"
   ]
  },
  {
   "cell_type": "code",
   "execution_count": 12,
   "id": "5fe98252",
   "metadata": {},
   "outputs": [
    {
     "name": "stdout",
     "output_type": "stream",
     "text": [
      "                   pre       rec       spe        f1       geo       iba       sup\n",
      "\n",
      "        0.0       0.93      0.84      0.43      0.88      0.60      0.38     68840\n",
      "        1.0       0.22      0.43      0.84      0.29      0.60      0.35      7264\n",
      "\n",
      "avg / total       0.86      0.80      0.47      0.82      0.60      0.37     76104\n",
      "\n"
     ]
    }
   ],
   "source": [
    "# define model\n",
    "model = DecisionTreeClassifier()\n",
    "# define resampling\n",
    "\n",
    "model.fit(X_balanced, y_balanced)\n",
    "y_pred = model.predict(X_test)\n",
    "\n",
    "# Classify and report the results\n",
    "print(classification_report_imbalanced(y_test, y_pred))"
   ]
  },
  {
   "cell_type": "code",
   "execution_count": null,
   "id": "6b425e4c",
   "metadata": {},
   "outputs": [],
   "source": []
  }
 ],
 "metadata": {
  "kernelspec": {
   "display_name": "Python 3 (ipykernel)",
   "language": "python",
   "name": "python3"
  },
  "language_info": {
   "codemirror_mode": {
    "name": "ipython",
    "version": 3
   },
   "file_extension": ".py",
   "mimetype": "text/x-python",
   "name": "python",
   "nbconvert_exporter": "python",
   "pygments_lexer": "ipython3",
   "version": "3.9.12"
  }
 },
 "nbformat": 4,
 "nbformat_minor": 5
}
